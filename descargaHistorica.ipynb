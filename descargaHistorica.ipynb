{
 "cells": [
  {
   "cell_type": "code",
   "execution_count": 16,
   "metadata": {},
   "outputs": [],
   "source": [
    "import json\n",
    "from json import JSONDecodeError\n",
    "import pandas as pd\n",
    "import os\n",
    "from dotenv import load_dotenv #pip install python-dotenv\n",
    "\n",
    "import requests\n",
    "import datetime\n",
    "from src.db_datos import Db_datos\n"
   ]
  },
  {
   "cell_type": "code",
   "execution_count": 17,
   "metadata": {},
   "outputs": [],
   "source": [
    "def convert_unix_to_date(unix_time):\n",
    "    return datetime.datetime.utcfromtimestamp(unix_time).strftime('%Y-%m-%d %H:%M:%S')"
   ]
  },
  {
   "cell_type": "code",
   "execution_count": 26,
   "metadata": {},
   "outputs": [],
   "source": [
    "def get_dataWeather(**kwargs):\n",
    "\n",
    "    url = 'http://api.openweathermap.org/'\n",
    "\n",
    "    key = 'f2ab75730071c8df43c0929be2a42793'\n",
    "    lat = kwargs.get('lat', '')\n",
    "    lon =  kwargs.get('lon', '')\n",
    "    start= kwargs.get('start', '')\n",
    "    end = kwargs.get('end', '')\n",
    "\n",
    "    endpoint = str('data/2.5/air_pollution/history?lat={}&lon={}&start={}&end={}&appid={}').format(lat, lon, start, end, key)\n",
    "\n",
    "    headers = {\n",
    "            \"Content-Type\": \"application/json\"\n",
    "        }\n",
    "    response = requests.get(url + endpoint, headers=headers)\n",
    "    if response.status_code == 200:\n",
    "        try:\n",
    "            # Obtener el token de la respuesta\n",
    "            data = response.json()\n",
    "            print('Process ok')\n",
    "            return data\n",
    "        except json.decoder.JSONDecodeError as e:\n",
    "            print(\"Error de decodificación JSON:\", str(e))\n",
    "            return 'Error'  \n"
   ]
  },
  {
   "cell_type": "code",
   "execution_count": 31,
   "metadata": {},
   "outputs": [],
   "source": [
    "lat= '4.710989'\n",
    "lon= '-74.072092'\n",
    "start ='1577854800'\n",
    "end = '1719810000'\n",
    "data = get_dataWeather(lat= lat,\n",
    "                        lon= lon,\n",
    "                        start = start,\n",
    "                        end = end)\n"
   ]
  },
  {
   "cell_type": "code",
   "execution_count": 41,
   "metadata": {},
   "outputs": [
    {
     "name": "stderr",
     "output_type": "stream",
     "text": [
      "C:\\Users\\c2222\\AppData\\Local\\Temp\\ipykernel_27360\\2429585078.py:2: DeprecationWarning: datetime.datetime.utcfromtimestamp() is deprecated and scheduled for removal in a future version. Use timezone-aware objects to represent datetimes in UTC: datetime.datetime.fromtimestamp(timestamp, datetime.UTC).\n",
      "  return datetime.datetime.utcfromtimestamp(unix_time).strftime('%Y-%m-%d %H:%M:%S')\n"
     ]
    }
   ],
   "source": [
    "df = pd.json_normalize(data['list'])\n",
    "df['date'] = df['dt'].apply(convert_unix_to_date)\n",
    "df['lat'] = lat\n",
    "df['lon'] = lon\n",
    "df = df.drop('dt',axis=1)\n",
    "\n",
    "\n",
    "titulos = ['main.aqi',\n",
    "            'components.co',\n",
    "            'components.no',\n",
    "            'components.no2',\n",
    "            'components.o3',\n",
    "            'components.so2',\n",
    "            'components.pm2_5',\n",
    "            'components.pm10',\n",
    "            'components.nh3',\n",
    "            'date',\n",
    "            'lat',\n",
    "            'lon']\n",
    "\n",
    "\n",
    "df.columns = titulos\n"
   ]
  },
  {
   "cell_type": "code",
   "execution_count": 44,
   "metadata": {},
   "outputs": [
    {
     "data": {
      "text/plain": [
       "31229"
      ]
     },
     "execution_count": 44,
     "metadata": {},
     "output_type": "execute_result"
    }
   ],
   "source": [
    "dc_toPush = [{'column_sql': 'co', 'column_df': 'components.co'},\n",
    "            {'column_sql': 'no', 'column_df': 'components.no'},\n",
    "            {'column_sql': 'no2', 'column_df': 'components.no2'},\n",
    "            {'column_sql': 'o3', 'column_df': 'components.o3'},\n",
    "            {'column_sql': 'so2', 'column_df': 'components.so2'},\n",
    "            {'column_sql': 'pm2_5', 'column_df': 'components.pm2_5'},\n",
    "            {'column_sql': 'pm10', 'column_df': 'components.pm10'},\n",
    "            {'column_sql': 'nh3', 'column_df': 'components.nh3'},\n",
    "            {'column_sql': 'lon', 'column_df': 'lon'},\n",
    "            {'column_sql': 'lat', 'column_df': 'lat'},\n",
    "            {'column_sql': 'aqi', 'column_df': 'main.aqi'},\n",
    "            {'column_sql': 'date', 'column_df': 'date'}]\n",
    "\n",
    "con = Db_datos()\n",
    "con.pushData(df,'pollution',False,dc_toPush)"
   ]
  },
  {
   "cell_type": "code",
   "execution_count": null,
   "metadata": {},
   "outputs": [],
   "source": []
  }
 ],
 "metadata": {
  "kernelspec": {
   "display_name": "webscraping",
   "language": "python",
   "name": "python3"
  },
  "language_info": {
   "codemirror_mode": {
    "name": "ipython",
    "version": 3
   },
   "file_extension": ".py",
   "mimetype": "text/x-python",
   "name": "python",
   "nbconvert_exporter": "python",
   "pygments_lexer": "ipython3",
   "version": "3.12.3"
  }
 },
 "nbformat": 4,
 "nbformat_minor": 2
}
